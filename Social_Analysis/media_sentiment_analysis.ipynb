{
 "cells": [
  {
   "cell_type": "markdown",
   "metadata": {},
   "source": [
    "Observable Trends:\n",
    "\n",
    "- Based on the recent tweet data, there appear to be many more negative sentiments from Fox News than other media outlets in the dataset. Sentiments for this media outlet range much closer to the -1 maximum value than others.\n",
    "- CNN, CBS, and The New York Times have more instances of positive sentiments than the rest of the media outlets in the dataset; higher instances of compound values over 0.75.\n",
    "- CNN and CBS News have a seemingly even distribution of types of sentiments in tweets, neither news outlet heavily skews positive or negative. This data shows that CNN has a slightly more positive compound sentiment value than CBS News. \n",
    "\n"
   ]
  },
  {
   "cell_type": "code",
   "execution_count": 14,
   "metadata": {
    "collapsed": true
   },
   "outputs": [],
   "source": [
    "# Dependencies\n",
    "import tweepy\n",
    "import json\n",
    "import numpy as np\n",
    "import pandas as pd\n",
    "import seaborn as sns\n",
    "import time\n",
    "import matplotlib.pyplot as plt\n",
    "from config import consumer_key, consumer_secret, access_token, access_token_secret\n",
    "from vaderSentiment.vaderSentiment import SentimentIntensityAnalyzer\n",
    "analyzer = SentimentIntensityAnalyzer()\n",
    "\n",
    "# Setup Tweepy API Authentication\n",
    "auth = tweepy.OAuthHandler(consumer_key, consumer_secret)\n",
    "auth.set_access_token(access_token, access_token_secret)\n",
    "api = tweepy.API(auth, parser=tweepy.parsers.JSONParser())"
   ]
  },
  {
   "cell_type": "code",
   "execution_count": 2,
   "metadata": {
    "collapsed": true
   },
   "outputs": [],
   "source": [
    "# get tweets\n",
    "# twitter accounts\n",
    "target_users = [\"@CNN\", \"@nytimes\", \"@FoxNews\", \"@BBCNews\", \"@CBSNews\"]\n",
    "\n",
    "sentiment_data = []\n",
    "\n",
    "for target_user in target_users:\n",
    "\n",
    "    counter = 1\n",
    "    \n",
    "    for x in range(5):\n",
    "    \n",
    "        public_tweets = api.user_timeline(target_user)\n",
    "\n",
    "        for tweet in public_tweets:\n",
    "        \n",
    "            #print(json.dumps(tweet, sort_keys=True, indent=4, separators=(',', ': ')))\n",
    "            #break\n",
    "    \n",
    "            # Run Vader Analysis on each tweet\n",
    "            compound = analyzer.polarity_scores(tweet['text'])[\"compound\"]\n",
    "            pos = analyzer.polarity_scores(tweet['text'])[\"pos\"]\n",
    "            neu = analyzer.polarity_scores(tweet['text'])[\"neu\"]\n",
    "            neg = analyzer.polarity_scores(tweet['text'])[\"neg\"]\n",
    "            tweets_ago = counter\n",
    "        \n",
    "                # Add sentiments for each tweet into an array\n",
    "            sentiment_data.append({\"Account Name\": tweet['user']['name'],\n",
    "                                \"Date\": tweet['created_at'],\n",
    "                                \"Tweet Text\": tweet['text'],             \n",
    "                                \"Compound\": compound,\n",
    "                                \"Positive\": pos,\n",
    "                                \"Negative\": neu,\n",
    "                                \"Neutral\": neg,\n",
    "                                \"Tweets Ago\": counter})\n",
    "        \n",
    "                # Add to counter \n",
    "            counter = counter + 1"
   ]
  },
  {
   "cell_type": "code",
   "execution_count": 3,
   "metadata": {},
   "outputs": [
    {
     "data": {
      "text/html": [
       "<div>\n",
       "<style>\n",
       "    .dataframe thead tr:only-child th {\n",
       "        text-align: right;\n",
       "    }\n",
       "\n",
       "    .dataframe thead th {\n",
       "        text-align: left;\n",
       "    }\n",
       "\n",
       "    .dataframe tbody tr th {\n",
       "        vertical-align: top;\n",
       "    }\n",
       "</style>\n",
       "<table border=\"1\" class=\"dataframe\">\n",
       "  <thead>\n",
       "    <tr style=\"text-align: right;\">\n",
       "      <th></th>\n",
       "      <th>Account Name</th>\n",
       "      <th>Compound</th>\n",
       "      <th>Date</th>\n",
       "      <th>Negative</th>\n",
       "      <th>Neutral</th>\n",
       "      <th>Positive</th>\n",
       "      <th>Tweet Text</th>\n",
       "      <th>Tweets Ago</th>\n",
       "    </tr>\n",
       "  </thead>\n",
       "  <tbody>\n",
       "    <tr>\n",
       "      <th>0</th>\n",
       "      <td>CNN</td>\n",
       "      <td>0.7772</td>\n",
       "      <td>Mon Mar 19 23:21:23 +0000 2018</td>\n",
       "      <td>0.715</td>\n",
       "      <td>0.000</td>\n",
       "      <td>0.285</td>\n",
       "      <td>RT @TheLeadCNN: We're celebrating 5 years of #...</td>\n",
       "      <td>1</td>\n",
       "    </tr>\n",
       "    <tr>\n",
       "      <th>1</th>\n",
       "      <td>CNN</td>\n",
       "      <td>0.2500</td>\n",
       "      <td>Mon Mar 19 23:20:00 +0000 2018</td>\n",
       "      <td>0.905</td>\n",
       "      <td>0.000</td>\n",
       "      <td>0.095</td>\n",
       "      <td>Trump lawyer Michael Cohen jokes about Stormy ...</td>\n",
       "      <td>2</td>\n",
       "    </tr>\n",
       "    <tr>\n",
       "      <th>2</th>\n",
       "      <td>CNN</td>\n",
       "      <td>0.0000</td>\n",
       "      <td>Mon Mar 19 23:10:06 +0000 2018</td>\n",
       "      <td>1.000</td>\n",
       "      <td>0.000</td>\n",
       "      <td>0.000</td>\n",
       "      <td>With just days before a potential shutdown, ne...</td>\n",
       "      <td>3</td>\n",
       "    </tr>\n",
       "    <tr>\n",
       "      <th>3</th>\n",
       "      <td>CNN</td>\n",
       "      <td>-0.4019</td>\n",
       "      <td>Mon Mar 19 23:07:04 +0000 2018</td>\n",
       "      <td>0.816</td>\n",
       "      <td>0.184</td>\n",
       "      <td>0.000</td>\n",
       "      <td>An anti-abortion, conservative Democrat fights...</td>\n",
       "      <td>4</td>\n",
       "    </tr>\n",
       "    <tr>\n",
       "      <th>4</th>\n",
       "      <td>CNN</td>\n",
       "      <td>0.0000</td>\n",
       "      <td>Mon Mar 19 23:01:07 +0000 2018</td>\n",
       "      <td>1.000</td>\n",
       "      <td>0.000</td>\n",
       "      <td>0.000</td>\n",
       "      <td>What you need to know about Facebook's data de...</td>\n",
       "      <td>5</td>\n",
       "    </tr>\n",
       "  </tbody>\n",
       "</table>\n",
       "</div>"
      ],
      "text/plain": [
       "  Account Name  Compound                            Date  Negative  Neutral  \\\n",
       "0          CNN    0.7772  Mon Mar 19 23:21:23 +0000 2018     0.715    0.000   \n",
       "1          CNN    0.2500  Mon Mar 19 23:20:00 +0000 2018     0.905    0.000   \n",
       "2          CNN    0.0000  Mon Mar 19 23:10:06 +0000 2018     1.000    0.000   \n",
       "3          CNN   -0.4019  Mon Mar 19 23:07:04 +0000 2018     0.816    0.184   \n",
       "4          CNN    0.0000  Mon Mar 19 23:01:07 +0000 2018     1.000    0.000   \n",
       "\n",
       "   Positive                                         Tweet Text  Tweets Ago  \n",
       "0     0.285  RT @TheLeadCNN: We're celebrating 5 years of #...           1  \n",
       "1     0.095  Trump lawyer Michael Cohen jokes about Stormy ...           2  \n",
       "2     0.000  With just days before a potential shutdown, ne...           3  \n",
       "3     0.000  An anti-abortion, conservative Democrat fights...           4  \n",
       "4     0.000  What you need to know about Facebook's data de...           5  "
      ]
     },
     "execution_count": 3,
     "metadata": {},
     "output_type": "execute_result"
    }
   ],
   "source": [
    "sentiments_df = pd.DataFrame.from_dict(sentiment_data)\n",
    "sentiments_df.head()"
   ]
  },
  {
   "cell_type": "code",
   "execution_count": 6,
   "metadata": {},
   "outputs": [
    {
     "data": {
      "text/html": [
       "<div>\n",
       "<style>\n",
       "    .dataframe thead tr:only-child th {\n",
       "        text-align: right;\n",
       "    }\n",
       "\n",
       "    .dataframe thead th {\n",
       "        text-align: left;\n",
       "    }\n",
       "\n",
       "    .dataframe tbody tr th {\n",
       "        vertical-align: top;\n",
       "    }\n",
       "</style>\n",
       "<table border=\"1\" class=\"dataframe\">\n",
       "  <thead>\n",
       "    <tr style=\"text-align: right;\">\n",
       "      <th></th>\n",
       "      <th>Account Name</th>\n",
       "      <th>Date</th>\n",
       "      <th>Tweet Text</th>\n",
       "      <th>Compound</th>\n",
       "      <th>Positive</th>\n",
       "      <th>Negative</th>\n",
       "      <th>Neutral</th>\n",
       "      <th>Tweets Ago</th>\n",
       "    </tr>\n",
       "  </thead>\n",
       "  <tbody>\n",
       "    <tr>\n",
       "      <th>0</th>\n",
       "      <td>CNN</td>\n",
       "      <td>Mon Mar 19 23:21:23 +0000 2018</td>\n",
       "      <td>RT @TheLeadCNN: We're celebrating 5 years of #...</td>\n",
       "      <td>0.7772</td>\n",
       "      <td>0.285</td>\n",
       "      <td>0.715</td>\n",
       "      <td>0.000</td>\n",
       "      <td>1</td>\n",
       "    </tr>\n",
       "    <tr>\n",
       "      <th>1</th>\n",
       "      <td>CNN</td>\n",
       "      <td>Mon Mar 19 23:20:00 +0000 2018</td>\n",
       "      <td>Trump lawyer Michael Cohen jokes about Stormy ...</td>\n",
       "      <td>0.2500</td>\n",
       "      <td>0.095</td>\n",
       "      <td>0.905</td>\n",
       "      <td>0.000</td>\n",
       "      <td>2</td>\n",
       "    </tr>\n",
       "    <tr>\n",
       "      <th>2</th>\n",
       "      <td>CNN</td>\n",
       "      <td>Mon Mar 19 23:10:06 +0000 2018</td>\n",
       "      <td>With just days before a potential shutdown, ne...</td>\n",
       "      <td>0.0000</td>\n",
       "      <td>0.000</td>\n",
       "      <td>1.000</td>\n",
       "      <td>0.000</td>\n",
       "      <td>3</td>\n",
       "    </tr>\n",
       "    <tr>\n",
       "      <th>3</th>\n",
       "      <td>CNN</td>\n",
       "      <td>Mon Mar 19 23:07:04 +0000 2018</td>\n",
       "      <td>An anti-abortion, conservative Democrat fights...</td>\n",
       "      <td>-0.4019</td>\n",
       "      <td>0.000</td>\n",
       "      <td>0.816</td>\n",
       "      <td>0.184</td>\n",
       "      <td>4</td>\n",
       "    </tr>\n",
       "    <tr>\n",
       "      <th>4</th>\n",
       "      <td>CNN</td>\n",
       "      <td>Mon Mar 19 23:01:07 +0000 2018</td>\n",
       "      <td>What you need to know about Facebook's data de...</td>\n",
       "      <td>0.0000</td>\n",
       "      <td>0.000</td>\n",
       "      <td>1.000</td>\n",
       "      <td>0.000</td>\n",
       "      <td>5</td>\n",
       "    </tr>\n",
       "  </tbody>\n",
       "</table>\n",
       "</div>"
      ],
      "text/plain": [
       "  Account Name                            Date  \\\n",
       "0          CNN  Mon Mar 19 23:21:23 +0000 2018   \n",
       "1          CNN  Mon Mar 19 23:20:00 +0000 2018   \n",
       "2          CNN  Mon Mar 19 23:10:06 +0000 2018   \n",
       "3          CNN  Mon Mar 19 23:07:04 +0000 2018   \n",
       "4          CNN  Mon Mar 19 23:01:07 +0000 2018   \n",
       "\n",
       "                                          Tweet Text  Compound  Positive  \\\n",
       "0  RT @TheLeadCNN: We're celebrating 5 years of #...    0.7772     0.285   \n",
       "1  Trump lawyer Michael Cohen jokes about Stormy ...    0.2500     0.095   \n",
       "2  With just days before a potential shutdown, ne...    0.0000     0.000   \n",
       "3  An anti-abortion, conservative Democrat fights...   -0.4019     0.000   \n",
       "4  What you need to know about Facebook's data de...    0.0000     0.000   \n",
       "\n",
       "   Negative  Neutral  Tweets Ago  \n",
       "0     0.715    0.000           1  \n",
       "1     0.905    0.000           2  \n",
       "2     1.000    0.000           3  \n",
       "3     0.816    0.184           4  \n",
       "4     1.000    0.000           5  "
      ]
     },
     "execution_count": 6,
     "metadata": {},
     "output_type": "execute_result"
    }
   ],
   "source": [
    "sentiments_df = sentiments_df[[\"Account Name\", \"Date\", \"Tweet Text\", \"Compound\", \"Positive\",\n",
    "                               \"Negative\", \"Neutral\", \"Tweets Ago\"]]\n",
    "\n",
    "sentiments_df.head()"
   ]
  },
  {
   "cell_type": "code",
   "execution_count": 10,
   "metadata": {
    "collapsed": true
   },
   "outputs": [],
   "source": [
    "sentiments_df.to_csv(\"media_sentiment_data.csv\", encoding=\"utf-8\", index=False)"
   ]
  },
  {
   "cell_type": "code",
   "execution_count": 48,
   "metadata": {},
   "outputs": [
    {
     "data": {
      "image/png": "[encoded data removed]",
      "text/plain": [
       "<matplotlib.figure.Figure at 0x1a15fa5860>"
      ]
     },
     "metadata": {},
     "output_type": "display_data"
    }
   ],
   "source": [
    "sns.set()\n",
    "sns.lmplot(x='Tweets Ago', y='Compound', data=sentiments_df, hue='Account Name', fit_reg=False)\n",
    "\n",
    "plt.title(\"Sentiment Analysis of Tweets for Media Outlets (%s) %s\" % (time.strftime(\"%x\"), \"\"))\n",
    "\n",
    "plt.ylabel(\"Tweet Polarity\")\n",
    "plt.xlabel(\"Tweets Ago\")\n",
    "\n",
    "plt.grid(True)\n",
    "plt.xlim([100, 0])\n",
    "plt.ylim([-1, 1])\n",
    "\n",
    "plt.savefig(\"Sentiment_Analysis_Tweets.png\", dpi=150)\n",
    "\n",
    "plt.show()"
   ]
  },
  {
   "cell_type": "code",
   "execution_count": 67,
   "metadata": {},
   "outputs": [
    {
     "data": {
      "image/png": "[encoded data removed]",
      "text/plain": [
       "<matplotlib.figure.Figure at 0x1a15d18198>"
      ]
     },
     "metadata": {},
     "output_type": "display_data"
    }
   ],
   "source": [
    "sns.set()\n",
    "ax = sns.barplot(x='Account Name', y='Compound', data=sentiments_df, ci=None)\n",
    "\n",
    "plt.title(\"Overall Tweet Sentiments for Media Outlets (%s) %s\" % (time.strftime(\"%x\"), \"\"))\n",
    "plt.ylabel(\"Tweet Polarity\")\n",
    "\n",
    "\n",
    "plt.ylim(-0.18, 0.05)\n",
    "\n",
    "#get labels for bars\n",
    "for p in ax.patches:\n",
    "    height = p.get_height()\n",
    "    ax.text(p.get_x()+p.get_width()/2.,\n",
    "            1.05*height,\n",
    "                '{:1.2f}'.format(height),\n",
    "            ha=\"center\") \n",
    "\n",
    "plt.savefig(\"Media_Sentiment_Overall.png\", dpi=150)\n",
    "plt.show()"
   ]
  },
  {
   "cell_type": "code",
   "execution_count": null,
   "metadata": {
    "collapsed": true
   },
   "outputs": [],
   "source": []
  }
 ],
 "metadata": {
  "kernelspec": {
   "display_name": "Python 3",
   "language": "python",
   "name": "python3"
  },
  "language_info": {
   "codemirror_mode": {
    "name": "ipython",
    "version": 3
   },
   "file_extension": ".py",
   "mimetype": "text/x-python",
   "name": "python",
   "nbconvert_exporter": "python",
   "pygments_lexer": "ipython3",
   "version": "3.6.3"
  }
 },
 "nbformat": 4,
 "nbformat_minor": 2
}
